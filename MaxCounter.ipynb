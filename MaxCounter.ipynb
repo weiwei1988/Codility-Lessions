{
 "cells": [
  {
   "cell_type": "code",
   "execution_count": 21,
   "metadata": {},
   "outputs": [],
   "source": [
    "def solution(N, A):\n",
    "    counter = [0 for i in range(N)]\n",
    "    max_value = 0\n",
    "    last_update = 0\n",
    "    \n",
    "    for i in range(len(A)):\n",
    "        if A[i] <= N:\n",
    "            if counter[A[i] - 1] < last_update:\n",
    "                counter[A[i] - 1] = last_update\n",
    "            \n",
    "            counter[A[i] - 1] += 1\n",
    "            max_value = max(max_value, counter[A[i] - 1])\n",
    "        \n",
    "        elif A[i] == N + 1:\n",
    "            last_update = max_value\n",
    "            \n",
    "        else:\n",
    "            pass\n",
    "    \n",
    "    for i in range(len(counter)):\n",
    "        if counter[i] < last_update:\n",
    "            counter[i] = last_update\n",
    "    \n",
    "    return counter"
   ]
  },
  {
   "cell_type": "code",
   "execution_count": 22,
   "metadata": {},
   "outputs": [],
   "source": [
    "A = [0 for i in range(7)]"
   ]
  },
  {
   "cell_type": "code",
   "execution_count": 23,
   "metadata": {},
   "outputs": [],
   "source": [
    "A[0] = 3\n",
    "A[1] = 4\n",
    "A[2] = 4\n",
    "A[3] = 6\n",
    "A[4] = 1\n",
    "A[5] = 4\n",
    "A[6] = 4"
   ]
  },
  {
   "cell_type": "code",
   "execution_count": 24,
   "metadata": {},
   "outputs": [
    {
     "data": {
      "text/plain": [
       "[3, 2, 2, 4, 2]"
      ]
     },
     "execution_count": 24,
     "metadata": {},
     "output_type": "execute_result"
    }
   ],
   "source": [
    "solution(5, A)"
   ]
  },
  {
   "cell_type": "code",
   "execution_count": 19,
   "metadata": {},
   "outputs": [],
   "source": [
    "def solution(N, A):\n",
    "    res = [0] * N\n",
    "    max_val = 0\n",
    "    last_update = 0\n",
    "    n1 = N+1\n",
    "    for i in A:\n",
    "        if i < n1:\n",
    "            if res[i-1] < last_update:\n",
    "                res[i-1] = last_update\n",
    "\n",
    "            res[i-1]+=1\n",
    "\n",
    "            if res[i-1] > max_val:\n",
    "                max_val = res[i-1]\n",
    "        else:\n",
    "            last_update = max_val\n",
    "        \n",
    "        print(i)\n",
    "        print(res)\n",
    "        print(last_update)\n",
    "\n",
    "    for i in range(len(res)):\n",
    "        if res[i] < last_update:\n",
    "            res[i] = last_update\n",
    "\n",
    "\n",
    "    return res"
   ]
  },
  {
   "cell_type": "code",
   "execution_count": 20,
   "metadata": {},
   "outputs": [
    {
     "name": "stdout",
     "output_type": "stream",
     "text": [
      "3\n",
      "[0, 0, 1, 0, 0]\n",
      "0\n",
      "4\n",
      "[0, 0, 1, 1, 0]\n",
      "0\n",
      "4\n",
      "[0, 0, 1, 2, 0]\n",
      "0\n",
      "6\n",
      "[0, 0, 1, 2, 0]\n",
      "2\n",
      "1\n",
      "[3, 0, 1, 2, 0]\n",
      "2\n",
      "4\n",
      "[3, 0, 1, 3, 0]\n",
      "2\n",
      "4\n",
      "[3, 0, 1, 4, 0]\n",
      "2\n"
     ]
    },
    {
     "data": {
      "text/plain": [
       "[3, 2, 2, 4, 2]"
      ]
     },
     "execution_count": 20,
     "metadata": {},
     "output_type": "execute_result"
    }
   ],
   "source": [
    "solution(5, A)"
   ]
  },
  {
   "cell_type": "code",
   "execution_count": null,
   "metadata": {},
   "outputs": [],
   "source": []
  }
 ],
 "metadata": {
  "kernelspec": {
   "display_name": "Python 3",
   "language": "python",
   "name": "python3"
  },
  "language_info": {
   "codemirror_mode": {
    "name": "ipython",
    "version": 3
   },
   "file_extension": ".py",
   "mimetype": "text/x-python",
   "name": "python",
   "nbconvert_exporter": "python",
   "pygments_lexer": "ipython3",
   "version": "3.6.6"
  }
 },
 "nbformat": 4,
 "nbformat_minor": 2
}
