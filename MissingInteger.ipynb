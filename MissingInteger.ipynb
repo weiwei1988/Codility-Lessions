{
 "cells": [
  {
   "cell_type": "code",
   "execution_count": 177,
   "metadata": {},
   "outputs": [],
   "source": [
    "A = [1]"
   ]
  },
  {
   "cell_type": "code",
   "execution_count": 178,
   "metadata": {},
   "outputs": [],
   "source": [
    "def solution(A):\n",
    "    B = list(set(A))\n",
    "    B = sorted(B)\n",
    "\n",
    "    missing = -1\n",
    "    count_neg = 0\n",
    "    count_pos = 0\n",
    "\n",
    "    for i in range(len(B)):\n",
    "        if B[i] <= 0:\n",
    "            count_neg += 1\n",
    "\n",
    "        elif B[i] > 0:\n",
    "            if B[i] != count_pos + 1:\n",
    "                missing = count_pos + 1\n",
    "                break\n",
    "\n",
    "            count_pos += 1\n",
    "\n",
    "    if missing == -1:\n",
    "        if count_neg == len(B):\n",
    "            missing = 1\n",
    "        else:\n",
    "            missing = B[len(B)-1] + 1\n",
    "            if missing == 0:\n",
    "                missing = 1\n",
    "                \n",
    "    return missing"
   ]
  },
  {
   "cell_type": "code",
   "execution_count": 185,
   "metadata": {},
   "outputs": [
    {
     "data": {
      "text/plain": [
       "2"
      ]
     },
     "execution_count": 185,
     "metadata": {},
     "output_type": "execute_result"
    }
   ],
   "source": [
    "missing"
   ]
  },
  {
   "cell_type": "code",
   "execution_count": null,
   "metadata": {},
   "outputs": [],
   "source": []
  }
 ],
 "metadata": {
  "kernelspec": {
   "display_name": "Python 3",
   "language": "python",
   "name": "python3"
  },
  "language_info": {
   "codemirror_mode": {
    "name": "ipython",
    "version": 3
   },
   "file_extension": ".py",
   "mimetype": "text/x-python",
   "name": "python",
   "nbconvert_exporter": "python",
   "pygments_lexer": "ipython3",
   "version": "3.6.6"
  }
 },
 "nbformat": 4,
 "nbformat_minor": 2
}
